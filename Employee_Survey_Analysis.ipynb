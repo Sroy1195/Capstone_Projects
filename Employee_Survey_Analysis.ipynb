{
 "cells": [
  {
   "cell_type": "markdown",
   "id": "b313c492-56b7-4d03-84b0-36781532c766",
   "metadata": {},
   "source": [
    "INTRODUCTION\n",
    "\n",
    "Here we have a dataset of the results of a recent employee survey. Goal is to analyze the data to come up with ideas for how to increase employee retention. To help with this, they would like you to design a model that predicts whether an employee will leave the company based on their department, number of projects, average monthly hours, and any other data points you deem helpful."
   ]
  },
  {
   "cell_type": "markdown",
   "id": "73a96e4e-7fa0-4910-9c52-3814cbac8b53",
   "metadata": {},
   "source": [
    "Importing libraries"
   ]
  },
  {
   "cell_type": "code",
   "execution_count": 7,
   "id": "4b8bae3b-95de-4ea7-bdbd-92ee96f60ad1",
   "metadata": {},
   "outputs": [],
   "source": [
    "import numpy as np # linear algebra\n",
    "import pandas as pd # data processing, CSV file I/O (e.g. pd.read_csv)\n",
    "import matplotlib.pyplot as plt # this is used for the plot the graph \n",
    "import seaborn as sns # used for plot interactive graph.\n",
    "from sklearn.linear_model import LogisticRegression\n",
    "from sklearn.ensemble import RandomForestClassifier\n",
    "from sklearn.tree import DecisionTreeClassifier\n",
    "from sklearn.neighbors import KNeighborsClassifier\n",
    "from sklearn.ensemble import GradientBoostingRegressor\n",
    "from sklearn.metrics import confusion_matrix\n",
    "from sklearn.metrics import accuracy_score\n",
    "from sklearn.svm import SVC"
   ]
  },
  {
   "cell_type": "markdown",
   "id": "733aaa00-2f89-4f00-b8cb-c594384ce3dd",
   "metadata": {},
   "source": [
    "DATA COLLECTION\n",
    "\n",
    "Data collection is the process of gathering and measuring data, information or any variables of interest in a standardized and established manner that enables the collector to answer or test hypothesis and evaluate outcomes of the particular collection."
   ]
  },
  {
   "cell_type": "code",
   "execution_count": 10,
   "id": "5a81b5c6-f059-41c2-ace8-2ab7e5bb249d",
   "metadata": {},
   "outputs": [
    {
     "data": {
      "text/html": [
       "<div>\n",
       "<style scoped>\n",
       "    .dataframe tbody tr th:only-of-type {\n",
       "        vertical-align: middle;\n",
       "    }\n",
       "\n",
       "    .dataframe tbody tr th {\n",
       "        vertical-align: top;\n",
       "    }\n",
       "\n",
       "    .dataframe thead th {\n",
       "        text-align: right;\n",
       "    }\n",
       "</style>\n",
       "<table border=\"1\" class=\"dataframe\">\n",
       "  <thead>\n",
       "    <tr style=\"text-align: right;\">\n",
       "      <th></th>\n",
       "      <th>satisfaction_level</th>\n",
       "      <th>last_performance_rating</th>\n",
       "      <th>number_of_projects</th>\n",
       "      <th>avg_monthly_hours</th>\n",
       "      <th>years_at_company</th>\n",
       "      <th>had_work_accident</th>\n",
       "      <th>has_left_company</th>\n",
       "      <th>promoted_in_last_5_years</th>\n",
       "      <th>Department</th>\n",
       "      <th>salary_level</th>\n",
       "    </tr>\n",
       "  </thead>\n",
       "  <tbody>\n",
       "    <tr>\n",
       "      <th>0</th>\n",
       "      <td>0.38</td>\n",
       "      <td>0.53</td>\n",
       "      <td>2</td>\n",
       "      <td>157</td>\n",
       "      <td>3</td>\n",
       "      <td>0</td>\n",
       "      <td>1</td>\n",
       "      <td>0</td>\n",
       "      <td>sales</td>\n",
       "      <td>low</td>\n",
       "    </tr>\n",
       "    <tr>\n",
       "      <th>1</th>\n",
       "      <td>0.80</td>\n",
       "      <td>0.86</td>\n",
       "      <td>5</td>\n",
       "      <td>262</td>\n",
       "      <td>6</td>\n",
       "      <td>0</td>\n",
       "      <td>1</td>\n",
       "      <td>0</td>\n",
       "      <td>sales</td>\n",
       "      <td>medium</td>\n",
       "    </tr>\n",
       "    <tr>\n",
       "      <th>2</th>\n",
       "      <td>0.11</td>\n",
       "      <td>0.88</td>\n",
       "      <td>7</td>\n",
       "      <td>272</td>\n",
       "      <td>4</td>\n",
       "      <td>0</td>\n",
       "      <td>1</td>\n",
       "      <td>0</td>\n",
       "      <td>sales</td>\n",
       "      <td>medium</td>\n",
       "    </tr>\n",
       "    <tr>\n",
       "      <th>3</th>\n",
       "      <td>0.72</td>\n",
       "      <td>0.87</td>\n",
       "      <td>5</td>\n",
       "      <td>223</td>\n",
       "      <td>5</td>\n",
       "      <td>0</td>\n",
       "      <td>1</td>\n",
       "      <td>0</td>\n",
       "      <td>sales</td>\n",
       "      <td>low</td>\n",
       "    </tr>\n",
       "    <tr>\n",
       "      <th>4</th>\n",
       "      <td>0.37</td>\n",
       "      <td>0.52</td>\n",
       "      <td>2</td>\n",
       "      <td>159</td>\n",
       "      <td>3</td>\n",
       "      <td>0</td>\n",
       "      <td>1</td>\n",
       "      <td>0</td>\n",
       "      <td>sales</td>\n",
       "      <td>low</td>\n",
       "    </tr>\n",
       "  </tbody>\n",
       "</table>\n",
       "</div>"
      ],
      "text/plain": [
       "   satisfaction_level  last_performance_rating  number_of_projects  \\\n",
       "0                0.38                     0.53                   2   \n",
       "1                0.80                     0.86                   5   \n",
       "2                0.11                     0.88                   7   \n",
       "3                0.72                     0.87                   5   \n",
       "4                0.37                     0.52                   2   \n",
       "\n",
       "   avg_monthly_hours  years_at_company  had_work_accident  has_left_company  \\\n",
       "0                157                 3                  0                 1   \n",
       "1                262                 6                  0                 1   \n",
       "2                272                 4                  0                 1   \n",
       "3                223                 5                  0                 1   \n",
       "4                159                 3                  0                 1   \n",
       "\n",
       "   promoted_in_last_5_years Department salary_level  \n",
       "0                         0      sales          low  \n",
       "1                         0      sales       medium  \n",
       "2                         0      sales       medium  \n",
       "3                         0      sales          low  \n",
       "4                         0      sales          low  "
      ]
     },
     "execution_count": 10,
     "metadata": {},
     "output_type": "execute_result"
    }
   ],
   "source": [
    "data = pd.read_csv('C:\\\\Users\\\\soura\\\\Documents\\\\DS_ML_assignments\\\\HR_capstone_dataset.csv')\n",
    "data.head()"
   ]
  },
  {
   "cell_type": "code",
   "execution_count": 12,
   "id": "3685f407-5567-4f20-ae0c-024226c1d278",
   "metadata": {},
   "outputs": [
    {
     "name": "stdout",
     "output_type": "stream",
     "text": [
      "<class 'pandas.core.frame.DataFrame'>\n",
      "RangeIndex: 14999 entries, 0 to 14998\n",
      "Data columns (total 10 columns):\n",
      " #   Column                    Non-Null Count  Dtype  \n",
      "---  ------                    --------------  -----  \n",
      " 0   satisfaction_level        14999 non-null  float64\n",
      " 1   last_performance_rating   14999 non-null  float64\n",
      " 2   number_of_projects        14999 non-null  int64  \n",
      " 3   avg_monthly_hours         14999 non-null  int64  \n",
      " 4   years_at_company          14999 non-null  int64  \n",
      " 5   had_work_accident         14999 non-null  int64  \n",
      " 6   has_left_company          14999 non-null  int64  \n",
      " 7   promoted_in_last_5_years  14999 non-null  int64  \n",
      " 8   Department                14999 non-null  object \n",
      " 9   salary_level              14999 non-null  object \n",
      "dtypes: float64(2), int64(6), object(2)\n",
      "memory usage: 1.1+ MB\n"
     ]
    },
    {
     "data": {
      "text/plain": [
       "(14999, 10)"
      ]
     },
     "execution_count": 12,
     "metadata": {},
     "output_type": "execute_result"
    }
   ],
   "source": [
    "data.info()\n",
    "data.shape"
   ]
  },
  {
   "cell_type": "code",
   "execution_count": 14,
   "id": "df911a32-4ed9-4e9c-8838-b3496f5c99be",
   "metadata": {},
   "outputs": [
    {
     "data": {
      "text/plain": [
       "satisfaction_level          0\n",
       "last_performance_rating     0\n",
       "number_of_projects          0\n",
       "avg_monthly_hours           0\n",
       "years_at_company            0\n",
       "had_work_accident           0\n",
       "has_left_company            0\n",
       "promoted_in_last_5_years    0\n",
       "Department                  0\n",
       "salary_level                0\n",
       "dtype: int64"
      ]
     },
     "execution_count": 14,
     "metadata": {},
     "output_type": "execute_result"
    }
   ],
   "source": [
    "data.isnull().sum()"
   ]
  },
  {
   "cell_type": "markdown",
   "id": "85cf308e-2859-449b-a3ba-ec1766df36ed",
   "metadata": {},
   "source": [
    "DATA VISULIZATION"
   ]
  },
  {
   "cell_type": "code",
   "execution_count": 17,
   "id": "f8a43d53-ecae-4833-89a9-6cb97b6efc2e",
   "metadata": {},
   "outputs": [
    {
     "data": {
      "text/plain": [
       "<Axes: ylabel='Frequency'>"
      ]
     },
     "execution_count": 17,
     "metadata": {},
     "output_type": "execute_result"
    },
    {
     "data": {
      "image/png": "[encoded data removed]",
      "text/plain": [
       "<Figure size 640x480 with 1 Axes>"
      ]
     },
     "metadata": {},
     "output_type": "display_data"
    }
   ],
   "source": [
    "data['satisfaction_level'].plot.hist()"
   ]
  },
  {
   "cell_type": "code",
   "execution_count": 19,
   "id": "76e8c083-e04d-475f-ac53-507c86624ac0",
   "metadata": {},
   "outputs": [
    {
     "data": {
      "image/png": "[encoded data removed]",
      "text/plain": [
       "<Figure size 640x480 with 1 Axes>"
      ]
     },
     "metadata": {},
     "output_type": "display_data"
    }
   ],
   "source": [
    "\n",
    "sns.countplot(data=data, x=\"has_left_company\")\n",
    "#Adding the labels and title\n",
    "\n",
    "plt.xlabel(\"Still At Company\")\n",
    "plt.ylabel(\"Count\")\n",
    "plt.title(\"Attrition count plot(0=Yes, 1=No)\")\n",
    "\n",
    "plt.show()"
   ]
  },
  {
   "cell_type": "code",
   "execution_count": 21,
   "id": "99152729-6526-499f-ac7d-e4e21f6f40ff",
   "metadata": {},
   "outputs": [
    {
     "data": {
      "image/png": "[encoded data removed]",
      "text/plain": [
       "<Figure size 640x480 with 1 Axes>"
      ]
     },
     "metadata": {},
     "output_type": "display_data"
    }
   ],
   "source": [
    "sns.countplot(data=data, x=\"salary_level\")\n",
    "#Adding the labels and title\n",
    "\n",
    "plt.xlabel(\"Salary Level\")\n",
    "plt.ylabel(\"Count\")\n",
    "plt.title(\"Salary level count plot\")\n",
    "\n",
    "plt.show()"
   ]
  },
  {
   "cell_type": "code",
   "execution_count": 23,
   "id": "a02689a3-d854-4e8a-94d0-36006bd28a08",
   "metadata": {},
   "outputs": [
    {
     "name": "stderr",
     "output_type": "stream",
     "text": [
      "C:\\Users\\soura\\AppData\\Local\\Temp\\ipykernel_17176\\617170143.py:3: FutureWarning: \n",
      "\n",
      "Passing `palette` without assigning `hue` is deprecated and will be removed in v0.14.0. Assign the `x` variable to `hue` and set `legend=False` for the same effect.\n",
      "\n",
      "  sns.barplot(data=df, x=\"Department\", y=\"Count\", palette=\"bright\")\n"
     ]
    },
    {
     "data": {
      "image/png": "[encoded data removed]",
      "text/plain": [
       "<Figure size 1200x800 with 1 Axes>"
      ]
     },
     "metadata": {},
     "output_type": "display_data"
    }
   ],
   "source": [
    "df=data[data[\"has_left_company\"] == 1].groupby(\"Department\").size().reset_index(name=\"Count\")\n",
    "plt.figure(figsize=(12, 8))\n",
    "sns.barplot(data=df, x=\"Department\", y=\"Count\", palette=\"bright\")\n",
    "#Adding the labels and title\n",
    "plt.xlabel(\"Dpertment\")\n",
    "plt.ylabel(\"Number of Employees left Company\")\n",
    "plt.title(\"Deprtment wise attrition count plot\")\n",
    "\n",
    "plt.show()"
   ]
  },
  {
   "cell_type": "code",
   "execution_count": 25,
   "id": "c789c45c-f50c-47de-87a0-7baf10b33eca",
   "metadata": {},
   "outputs": [
    {
     "name": "stderr",
     "output_type": "stream",
     "text": [
      "C:\\Users\\soura\\AppData\\Local\\Temp\\ipykernel_17176\\4213610054.py:4: FutureWarning: \n",
      "\n",
      "Passing `palette` without assigning `hue` is deprecated and will be removed in v0.14.0. Assign the `x` variable to `hue` and set `legend=False` for the same effect.\n",
      "\n",
      "  sns.barplot(data=data, x=\"Department\", y=\"years_at_company\", palette=\"bright\")\n"
     ]
    },
    {
     "data": {
      "image/png": "[encoded data removed]",
      "text/plain": [
       "<Figure size 1200x800 with 1 Axes>"
      ]
     },
     "metadata": {},
     "output_type": "display_data"
    }
   ],
   "source": [
    "#df1=data[data[\"Department\"] == \"sales\"]\n",
    "\n",
    "plt.figure(figsize=(12, 8))\n",
    "sns.barplot(data=data, x=\"Department\", y=\"years_at_company\", palette=\"bright\")\n",
    "#Adding the labels and title\n",
    "plt.xlabel(\"Sales Dpertment\")\n",
    "plt.ylabel(\"Years At Company\")\n",
    "\n",
    "plt.show()"
   ]
  },
  {
   "cell_type": "code",
   "execution_count": 80,
   "id": "9cb1e11c-38a3-4921-9d3b-a06ab4e0e917",
   "metadata": {},
   "outputs": [
    {
     "data": {
      "application/vnd.jupyter.widget-view+json": {
       "model_id": "3f3b595eb59e4f0a9879357517288192",
       "version_major": 2,
       "version_minor": 0
      },
      "text/plain": [
       "Summarize dataset:   0%|          | 0/5 [00:00<?, ?it/s]"
      ]
     },
     "metadata": {},
     "output_type": "display_data"
    },
    {
     "data": {
      "application/vnd.jupyter.widget-view+json": {
       "model_id": "5f3a974d9db44d478b869554691ed7e3",
       "version_major": 2,
       "version_minor": 0
      },
      "text/plain": [
       "Generate report structure:   0%|          | 0/1 [00:00<?, ?it/s]"
      ]
     },
     "metadata": {},
     "output_type": "display_data"
    },
    {
     "data": {
      "application/vnd.jupyter.widget-view+json": {
       "model_id": "29b7f8e6e8c1481c8b229563920805f8",
       "version_major": 2,
       "version_minor": 0
      },
      "text/plain": [
       "Render HTML:   0%|          | 0/1 [00:00<?, ?it/s]"
      ]
     },
     "metadata": {},
     "output_type": "display_data"
    },
    {
     "data": {
      "application/vnd.jupyter.widget-view+json": {
       "model_id": "978cd8f843f54131bacbe3ac1fc97d72",
       "version_major": 2,
       "version_minor": 0
      },
      "text/plain": [
       "Export report to file:   0%|          | 0/1 [00:00<?, ?it/s]"
      ]
     },
     "metadata": {},
     "output_type": "display_data"
    }
   ],
   "source": [
    "from ydata_profiling import ProfileReport\n",
    "\n",
    "# Create a profiling report\n",
    "profile = ProfileReport(data, title=\"Profiling Report\")\n",
    "\n",
    "# Save the report as an HTML file\n",
    "profile.to_file(\"HR_data_analysis.html\")"
   ]
  },
  {
   "cell_type": "markdown",
   "id": "e2555aa1-b951-4934-8b0e-fe04c2bdef59",
   "metadata": {},
   "source": [
    "DATA CLEANING"
   ]
  },
  {
   "cell_type": "code",
   "execution_count": 28,
   "id": "25b6187b-7af3-44b6-9d78-94bfadcb26e2",
   "metadata": {},
   "outputs": [
    {
     "data": {
      "text/plain": [
       "(14999, 10)"
      ]
     },
     "execution_count": 28,
     "metadata": {},
     "output_type": "execute_result"
    }
   ],
   "source": [
    "data.dropna(inplace=True) \n",
    "data.shape"
   ]
  },
  {
   "cell_type": "markdown",
   "id": "320b9b4a-4029-4054-af2b-067a2a26d38b",
   "metadata": {},
   "source": [
    "We do not have any null data, so post cleaning shape is same. Total 14999 records."
   ]
  },
  {
   "cell_type": "code",
   "execution_count": 49,
   "id": "661886e3-a86a-44a3-97d8-750a8f0aa872",
   "metadata": {},
   "outputs": [
    {
     "data": {
      "text/html": [
       "<div>\n",
       "<style scoped>\n",
       "    .dataframe tbody tr th:only-of-type {\n",
       "        vertical-align: middle;\n",
       "    }\n",
       "\n",
       "    .dataframe tbody tr th {\n",
       "        vertical-align: top;\n",
       "    }\n",
       "\n",
       "    .dataframe thead th {\n",
       "        text-align: right;\n",
       "    }\n",
       "</style>\n",
       "<table border=\"1\" class=\"dataframe\">\n",
       "  <thead>\n",
       "    <tr style=\"text-align: right;\">\n",
       "      <th></th>\n",
       "      <th>satisfaction_level</th>\n",
       "      <th>last_performance_rating</th>\n",
       "      <th>number_of_projects</th>\n",
       "      <th>avg_monthly_hours</th>\n",
       "      <th>years_at_company</th>\n",
       "      <th>had_work_accident</th>\n",
       "      <th>has_left_company</th>\n",
       "      <th>promoted_in_last_5_years</th>\n",
       "      <th>Department</th>\n",
       "      <th>salary_level</th>\n",
       "      <th>sal_high</th>\n",
       "      <th>sal_low</th>\n",
       "      <th>sal_medium</th>\n",
       "    </tr>\n",
       "  </thead>\n",
       "  <tbody>\n",
       "    <tr>\n",
       "      <th>0</th>\n",
       "      <td>0.38</td>\n",
       "      <td>0.53</td>\n",
       "      <td>2</td>\n",
       "      <td>157</td>\n",
       "      <td>3</td>\n",
       "      <td>0</td>\n",
       "      <td>1</td>\n",
       "      <td>0</td>\n",
       "      <td>7</td>\n",
       "      <td>1</td>\n",
       "      <td>False</td>\n",
       "      <td>True</td>\n",
       "      <td>False</td>\n",
       "    </tr>\n",
       "    <tr>\n",
       "      <th>1</th>\n",
       "      <td>0.80</td>\n",
       "      <td>0.86</td>\n",
       "      <td>5</td>\n",
       "      <td>262</td>\n",
       "      <td>6</td>\n",
       "      <td>0</td>\n",
       "      <td>1</td>\n",
       "      <td>0</td>\n",
       "      <td>7</td>\n",
       "      <td>2</td>\n",
       "      <td>False</td>\n",
       "      <td>False</td>\n",
       "      <td>True</td>\n",
       "    </tr>\n",
       "    <tr>\n",
       "      <th>2</th>\n",
       "      <td>0.11</td>\n",
       "      <td>0.88</td>\n",
       "      <td>7</td>\n",
       "      <td>272</td>\n",
       "      <td>4</td>\n",
       "      <td>0</td>\n",
       "      <td>1</td>\n",
       "      <td>0</td>\n",
       "      <td>7</td>\n",
       "      <td>2</td>\n",
       "      <td>False</td>\n",
       "      <td>False</td>\n",
       "      <td>True</td>\n",
       "    </tr>\n",
       "    <tr>\n",
       "      <th>3</th>\n",
       "      <td>0.72</td>\n",
       "      <td>0.87</td>\n",
       "      <td>5</td>\n",
       "      <td>223</td>\n",
       "      <td>5</td>\n",
       "      <td>0</td>\n",
       "      <td>1</td>\n",
       "      <td>0</td>\n",
       "      <td>7</td>\n",
       "      <td>1</td>\n",
       "      <td>False</td>\n",
       "      <td>True</td>\n",
       "      <td>False</td>\n",
       "    </tr>\n",
       "    <tr>\n",
       "      <th>4</th>\n",
       "      <td>0.37</td>\n",
       "      <td>0.52</td>\n",
       "      <td>2</td>\n",
       "      <td>159</td>\n",
       "      <td>3</td>\n",
       "      <td>0</td>\n",
       "      <td>1</td>\n",
       "      <td>0</td>\n",
       "      <td>7</td>\n",
       "      <td>1</td>\n",
       "      <td>False</td>\n",
       "      <td>True</td>\n",
       "      <td>False</td>\n",
       "    </tr>\n",
       "  </tbody>\n",
       "</table>\n",
       "</div>"
      ],
      "text/plain": [
       "   satisfaction_level  last_performance_rating  number_of_projects  \\\n",
       "0                0.38                     0.53                   2   \n",
       "1                0.80                     0.86                   5   \n",
       "2                0.11                     0.88                   7   \n",
       "3                0.72                     0.87                   5   \n",
       "4                0.37                     0.52                   2   \n",
       "\n",
       "   avg_monthly_hours  years_at_company  had_work_accident  has_left_company  \\\n",
       "0                157                 3                  0                 1   \n",
       "1                262                 6                  0                 1   \n",
       "2                272                 4                  0                 1   \n",
       "3                223                 5                  0                 1   \n",
       "4                159                 3                  0                 1   \n",
       "\n",
       "   promoted_in_last_5_years  Department  salary_level  sal_high  sal_low  \\\n",
       "0                         0           7             1     False     True   \n",
       "1                         0           7             2     False    False   \n",
       "2                         0           7             2     False    False   \n",
       "3                         0           7             1     False     True   \n",
       "4                         0           7             1     False     True   \n",
       "\n",
       "   sal_medium  \n",
       "0       False  \n",
       "1        True  \n",
       "2        True  \n",
       "3       False  \n",
       "4       False  "
      ]
     },
     "execution_count": 49,
     "metadata": {},
     "output_type": "execute_result"
    }
   ],
   "source": [
    "data.head()"
   ]
  },
  {
   "cell_type": "code",
   "execution_count": 55,
   "id": "25b90aef-81a6-4c88-9e4f-a14d4d3929b3",
   "metadata": {},
   "outputs": [
    {
     "data": {
      "text/html": [
       "<div>\n",
       "<style scoped>\n",
       "    .dataframe tbody tr th:only-of-type {\n",
       "        vertical-align: middle;\n",
       "    }\n",
       "\n",
       "    .dataframe tbody tr th {\n",
       "        vertical-align: top;\n",
       "    }\n",
       "\n",
       "    .dataframe thead th {\n",
       "        text-align: right;\n",
       "    }\n",
       "</style>\n",
       "<table border=\"1\" class=\"dataframe\">\n",
       "  <thead>\n",
       "    <tr style=\"text-align: right;\">\n",
       "      <th></th>\n",
       "      <th>satisfaction_level</th>\n",
       "      <th>last_performance_rating</th>\n",
       "      <th>number_of_projects</th>\n",
       "      <th>avg_monthly_hours</th>\n",
       "      <th>years_at_company</th>\n",
       "      <th>had_work_accident</th>\n",
       "      <th>has_left_company</th>\n",
       "      <th>promoted_in_last_5_years</th>\n",
       "      <th>Department</th>\n",
       "      <th>salary_level</th>\n",
       "    </tr>\n",
       "  </thead>\n",
       "  <tbody>\n",
       "    <tr>\n",
       "      <th>0</th>\n",
       "      <td>0.38</td>\n",
       "      <td>0.53</td>\n",
       "      <td>2</td>\n",
       "      <td>157</td>\n",
       "      <td>3</td>\n",
       "      <td>0</td>\n",
       "      <td>1</td>\n",
       "      <td>0</td>\n",
       "      <td>7</td>\n",
       "      <td>1</td>\n",
       "    </tr>\n",
       "    <tr>\n",
       "      <th>1</th>\n",
       "      <td>0.80</td>\n",
       "      <td>0.86</td>\n",
       "      <td>5</td>\n",
       "      <td>262</td>\n",
       "      <td>6</td>\n",
       "      <td>0</td>\n",
       "      <td>1</td>\n",
       "      <td>0</td>\n",
       "      <td>7</td>\n",
       "      <td>2</td>\n",
       "    </tr>\n",
       "    <tr>\n",
       "      <th>2</th>\n",
       "      <td>0.11</td>\n",
       "      <td>0.88</td>\n",
       "      <td>7</td>\n",
       "      <td>272</td>\n",
       "      <td>4</td>\n",
       "      <td>0</td>\n",
       "      <td>1</td>\n",
       "      <td>0</td>\n",
       "      <td>7</td>\n",
       "      <td>2</td>\n",
       "    </tr>\n",
       "    <tr>\n",
       "      <th>3</th>\n",
       "      <td>0.72</td>\n",
       "      <td>0.87</td>\n",
       "      <td>5</td>\n",
       "      <td>223</td>\n",
       "      <td>5</td>\n",
       "      <td>0</td>\n",
       "      <td>1</td>\n",
       "      <td>0</td>\n",
       "      <td>7</td>\n",
       "      <td>1</td>\n",
       "    </tr>\n",
       "    <tr>\n",
       "      <th>4</th>\n",
       "      <td>0.37</td>\n",
       "      <td>0.52</td>\n",
       "      <td>2</td>\n",
       "      <td>159</td>\n",
       "      <td>3</td>\n",
       "      <td>0</td>\n",
       "      <td>1</td>\n",
       "      <td>0</td>\n",
       "      <td>7</td>\n",
       "      <td>1</td>\n",
       "    </tr>\n",
       "  </tbody>\n",
       "</table>\n",
       "</div>"
      ],
      "text/plain": [
       "   satisfaction_level  last_performance_rating  number_of_projects  \\\n",
       "0                0.38                     0.53                   2   \n",
       "1                0.80                     0.86                   5   \n",
       "2                0.11                     0.88                   7   \n",
       "3                0.72                     0.87                   5   \n",
       "4                0.37                     0.52                   2   \n",
       "\n",
       "   avg_monthly_hours  years_at_company  had_work_accident  has_left_company  \\\n",
       "0                157                 3                  0                 1   \n",
       "1                262                 6                  0                 1   \n",
       "2                272                 4                  0                 1   \n",
       "3                223                 5                  0                 1   \n",
       "4                159                 3                  0                 1   \n",
       "\n",
       "   promoted_in_last_5_years  Department  salary_level  \n",
       "0                         0           7             1  \n",
       "1                         0           7             2  \n",
       "2                         0           7             2  \n",
       "3                         0           7             1  \n",
       "4                         0           7             1  "
      ]
     },
     "execution_count": 55,
     "metadata": {},
     "output_type": "execute_result"
    }
   ],
   "source": [
    "#import label encoder\n",
    "from sklearn import preprocessing \n",
    "#make an instance of Label Encoder\n",
    "label_encoder = preprocessing.LabelEncoder()\n",
    "\n",
    "data[\"salary_level\"]=label_encoder.fit_transform(data['salary_level'])\n",
    "data[\"Department\"]=label_encoder.fit_transform(data['Department'])\n",
    "data.drop(['sal_high', 'sal_low', 'sal_medium'], axis=1, inplace=True)\n",
    "data.head()"
   ]
  },
  {
   "cell_type": "markdown",
   "id": "b4f74d4a-3bf7-4863-88f1-19eac203dab6",
   "metadata": {},
   "source": [
    "FEATURE SELECTION"
   ]
  },
  {
   "cell_type": "code",
   "execution_count": 58,
   "id": "23c10a5d-265d-407e-82ad-4c89e6e28bb4",
   "metadata": {},
   "outputs": [],
   "source": [
    "X=data.drop('has_left_company',axis=1)\n",
    "y=data['has_left_company'].values"
   ]
  },
  {
   "cell_type": "code",
   "execution_count": 60,
   "id": "0c2e269f-e93d-4cf6-a760-78444b24a9eb",
   "metadata": {},
   "outputs": [],
   "source": [
    "from sklearn.model_selection import train_test_split\n",
    "X_train, X_test, y_train, y_test = train_test_split(X, y, test_size = 0.3, random_state=0)"
   ]
  },
  {
   "cell_type": "markdown",
   "id": "d52acc81-8518-46f5-9456-55b58e5fc453",
   "metadata": {},
   "source": [
    "DIVIDING DATASET IN 70, 30 RATIO, 70% IS TRAIN DATA AND 30% IS TEST DATA"
   ]
  },
  {
   "cell_type": "markdown",
   "id": "22d2998c-d503-4a21-b678-9f72f13ef001",
   "metadata": {},
   "source": [
    "TRAINING AND TESTING DATA"
   ]
  },
  {
   "cell_type": "markdown",
   "id": "b9b10454-8c31-443a-880f-5a07899280d6",
   "metadata": {},
   "source": [
    "Logistic Regression\n",
    "\n",
    "Logistic regression is a statistical model that in its basic form uses a logistic function to model a binary dependent variable, although many more complex extensions exist. In regression analysis, logistic regression (or logit regression) is estimating the parameters of a logistic model (a form of binary regression)."
   ]
  },
  {
   "cell_type": "code",
   "execution_count": 66,
   "id": "85321f00-0b38-4b08-92f5-0f6a151e939b",
   "metadata": {},
   "outputs": [
    {
     "name": "stdout",
     "output_type": "stream",
     "text": [
      "LogisticRegression_accuracy: 0.7675555555555555\n"
     ]
    },
    {
     "name": "stderr",
     "output_type": "stream",
     "text": [
      "C:\\Users\\soura\\anaconda3\\Lib\\site-packages\\sklearn\\linear_model\\_logistic.py:469: ConvergenceWarning: lbfgs failed to converge (status=1):\n",
      "STOP: TOTAL NO. of ITERATIONS REACHED LIMIT.\n",
      "\n",
      "Increase the number of iterations (max_iter) or scale the data as shown in:\n",
      "    https://scikit-learn.org/stable/modules/preprocessing.html\n",
      "Please also refer to the documentation for alternative solver options:\n",
      "    https://scikit-learn.org/stable/modules/linear_model.html#logistic-regression\n",
      "  n_iter_i = _check_optimize_result(\n"
     ]
    }
   ],
   "source": [
    "#LogisticRegression\n",
    "lr_c=LogisticRegression(random_state=0)\n",
    "lr_c.fit(X_train,y_train)\n",
    "lr_pred=lr_c.predict(X_test)\n",
    "lr_cm=confusion_matrix(y_test,lr_pred)\n",
    "lr_ac=accuracy_score(y_test, lr_pred)\n",
    "print('LogisticRegression_accuracy:',lr_ac)"
   ]
  },
  {
   "cell_type": "markdown",
   "id": "3e68093e-8c34-4275-8a1b-c068b6d08ac1",
   "metadata": {},
   "source": [
    "DECISION TREE CLASSIFIER\n",
    "\n",
    "A decision tree classifier is a tree in which internal nodes are labeled by features. ... The classifier categorizes an object xi by recursively testing for the weights that the features labeling the internal nodes have in vector xi, until a leaf node is reached. The label of this node is then assigned to xi"
   ]
  },
  {
   "cell_type": "code",
   "execution_count": 69,
   "id": "3523c2b6-24d2-41f8-b1a5-e9877efe991e",
   "metadata": {},
   "outputs": [
    {
     "data": {
      "text/plain": [
       "0.9742222222222222"
      ]
     },
     "execution_count": 69,
     "metadata": {},
     "output_type": "execute_result"
    }
   ],
   "source": [
    "# DecisionTree Classifier\n",
    "dtree_c=DecisionTreeClassifier(criterion='entropy',random_state=0)\n",
    "dtree_c.fit(X_train,y_train)\n",
    "dtree_pred=dtree_c.predict(X_test)\n",
    "dtree_cm=confusion_matrix(y_test,dtree_pred)\n",
    "dtree_cm\n",
    "dtree_ac=accuracy_score(dtree_pred,y_test)\n",
    "dtree_ac"
   ]
  },
  {
   "cell_type": "markdown",
   "id": "cea2b638-fe36-4b36-b4d6-070426f9001e",
   "metadata": {},
   "source": [
    "SVM REGRESSOR\n",
    "\n",
    "As the name suggest the SVR is an regression algorithm , so we can use SVR for working with continuous Values instead of Classification which is SVM"
   ]
  },
  {
   "cell_type": "code",
   "execution_count": 72,
   "id": "9cda7b17-a355-4ff2-840d-ce5a6a5ba2f1",
   "metadata": {},
   "outputs": [
    {
     "name": "stdout",
     "output_type": "stream",
     "text": [
      "SVM_regressor_accuracy: 0.7904444444444444\n"
     ]
    }
   ],
   "source": [
    "#SVM regressor\n",
    "svc_r=SVC(kernel='rbf')\n",
    "svc_r.fit(X_train,y_train)\n",
    "svr_pred=svc_r.predict(X_test)\n",
    "svr_cm=confusion_matrix(y_test,svr_pred)\n",
    "svr_ac=accuracy_score(y_test, svr_pred)\n",
    "print('SVM_regressor_accuracy:',svr_ac)"
   ]
  },
  {
   "cell_type": "markdown",
   "id": "3f8512b7-d6bb-4e3e-a56d-907353664d45",
   "metadata": {},
   "source": [
    "RANDOM FORREST\n",
    "\n",
    "The random forest is a classification algorithm consisting of many decisions trees. It uses bagging and feature randomness when building each individual tree to try to create an uncorrelated forest of trees whose prediction by committee is more accurate than that of any individual tree."
   ]
  },
  {
   "cell_type": "code",
   "execution_count": 75,
   "id": "f1365bb2-bf5a-4a6c-b4a0-e0c617dd92a4",
   "metadata": {},
   "outputs": [
    {
     "name": "stdout",
     "output_type": "stream",
     "text": [
      "RandomForest_accuracy: 0.9886666666666667\n"
     ]
    }
   ],
   "source": [
    "#RandomForest\n",
    "rdf_c=RandomForestClassifier(n_estimators=10,criterion='entropy',random_state=0)\n",
    "rdf_c.fit(X_train,y_train)\n",
    "rdf_pred=rdf_c.predict(X_test)\n",
    "rdf_cm=confusion_matrix(y_test,rdf_pred)\n",
    "rdf_ac=accuracy_score(rdf_pred,y_test)\n",
    "print('RandomForest_accuracy:',rdf_ac)"
   ]
  },
  {
   "cell_type": "markdown",
   "id": "6c58fb6f-ffc4-437d-9d65-52cc439a8310",
   "metadata": {},
   "source": [
    "MODELS COMPARISION THE KEY TO A FAIR COMPARISON OF MACHINE LEARNING ALGORITHMS IS ENSURING THAT EACH ALGORITHM IS EVALUATED IN THE SAME WAY ON THE SAME DATA. YOU CAN ACHIEVE THIS BY FORCING EACH ALGORITHM TO BE EVALUATED ON A CONSISTENT TEST HARNESS. IN THIS NOTEBBOK 4 DIFFERENT ALGORITHMS ARE COMPARED"
   ]
  },
  {
   "cell_type": "code",
   "execution_count": 78,
   "id": "c6147885-6f65-4cae-ba52-31a364e98763",
   "metadata": {},
   "outputs": [
    {
     "data": {
      "text/plain": [
       "Text(0.5, 1.0, 'Model Accuracy')"
      ]
     },
     "execution_count": 78,
     "metadata": {},
     "output_type": "execute_result"
    },
    {
     "data": {
      "image/png": "[encoded data removed]",
      "text/plain": [
       "<Figure size 1000x500 with 1 Axes>"
      ]
     },
     "metadata": {},
     "output_type": "display_data"
    }
   ],
   "source": [
    "model_accuracy = pd.Series(data=[lr_ac,dtree_ac,svr_ac,rdf_ac], \n",
    "        index=['Logistic_Regression','DecisionTree_Classifier','SVM_regressor_accuracy','RandomForest'])\n",
    "fig= plt.figure(figsize=(10,5))\n",
    "model_accuracy.sort_values().plot.barh()\n",
    "plt.title('Model Accuracy')"
   ]
  },
  {
   "cell_type": "markdown",
   "id": "95ed382b-2afe-4462-bfdd-b7a66bef661b",
   "metadata": {},
   "source": [
    "In this notebook we use pandas, NumPy, yData profiling for data pre-processing and for visualization we use matplotlib, seaborn and mostly plotly.\n",
    "\n",
    "By working on the Employee survey data, we could find insights about the employee mentality and trend for leaving the company. Here we use different machine learning model to predict the attrition behaviour and also compare the model performance.\n"
   ]
  }
 ],
 "metadata": {
  "kernelspec": {
   "display_name": "Python 3 (ipykernel)",
   "language": "python",
   "name": "python3"
  },
  "language_info": {
   "codemirror_mode": {
    "name": "ipython",
    "version": 3
   },
   "file_extension": ".py",
   "mimetype": "text/x-python",
   "name": "python",
   "nbconvert_exporter": "python",
   "pygments_lexer": "ipython3",
   "version": "3.12.7"
  }
 },
 "nbformat": 4,
 "nbformat_minor": 5
}
